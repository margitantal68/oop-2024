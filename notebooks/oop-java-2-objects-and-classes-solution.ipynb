{
  "nbformat": 4,
  "nbformat_minor": 0,
  "metadata": {
    "colab": {
      "provenance": [],
      "toc_visible": true
    },
    "kernelspec": {
      "name": "python3",
      "display_name": "Python 3"
    },
    "language_info": {
      "name": "python"
    }
  },
  "cells": [
    {
      "cell_type": "markdown",
      "source": [
        "Motto: **Learn by doing!**"
      ],
      "metadata": {
        "id": "bknuwUyvWBdd"
      }
    },
    {
      "cell_type": "markdown",
      "source": [
        "#1. Classes and Objects"
      ],
      "metadata": {
        "id": "kZ85I98PPc-z"
      }
    },
    {
      "cell_type": "markdown",
      "source": [
        "This module introduces the concept of **classes** and **objects**. Besides these two basic concepts, we will also introduce other basic concepts.\n",
        "\n",
        "Basic concepts:\n",
        "- Class (**osztály**)\n",
        "- Attribute (**attribútum**)\n",
        "- Method (**metódus**)\n",
        "- Constructor (**konstruktor**)\n",
        "- Object (**objektum**)\n",
        "- Encapsulation (**egységbezárás**)\n",
        "- Information hiding (**információ elrejtése**)"
      ],
      "metadata": {
        "id": "40KPWIKKPhYj"
      }
    },
    {
      "cell_type": "markdown",
      "source": [
        "## Classes"
      ],
      "metadata": {
        "id": "P8Efi2BNUK_S"
      }
    },
    {
      "cell_type": "markdown",
      "source": [
        "A **class** is a user-defined **type**.\n",
        "\n",
        "**Instances** of a class are **objects**.\n",
        "\n",
        "The **class** defines  \n",
        "- the **DATA** (**attributes**)\n",
        "- the **BEHAVIOR** (**methods**) of an object.\n",
        "\n",
        "Attributes and methods are called **members** of a class."
      ],
      "metadata": {
        "id": "D41Gw_yQUflm"
      }
    },
    {
      "cell_type": "markdown",
      "source": [
        "Let's consider a simple example, a class called **Counter**. We intend to use this type to count the number of children born in a certain year.\n",
        "\n",
        "In the following code block, the **Counter** class is defined. This user-defined type contains an attribute called **value** and two methods: a method called **inc** and a method called **getValue**.\n",
        "\n",
        "Note, that the attribute **value** is **private**, and the methods **inc** and **getValue** are **public**.\n",
        "\n",
        "*Why this user-defined type is more secure than an integer?*\n",
        "\n",
        "- The **value** attribute is **private**, so it can only be accessed within the **Counter** class.\n",
        "- The **inc** and **getValue** methods are **public**, so they can be accessed from outside the **Counter** class.\n",
        "- The **value** attribute can be modified only by the **inc** method.\n",
        "- The **getValue** always return the current value of the **value** attribute.\n",
        "\n",
        "\n",
        "The **value** always starts with the value 0.\n",
        "\n",
        "Using the **inc** method, the **value** is increased by 1.\n",
        "\n",
        "If you use the inc method 10 times, the **value** should be 10.\n",
        "\n",
        "*Consider an integer variable initialized with the value 0. Is it guaranteed that the variable increments its value only by 1?*\n",
        "\n"
      ],
      "metadata": {
        "id": "t5gxujzaJA22"
      }
    },
    {
      "cell_type": "code",
      "source": [
        "%%writefile Counter.java\n",
        "\n",
        "public class Counter {\n",
        "  private int value = 0; //attribute\n",
        "\n",
        "  public void inc(){     //method\n",
        "    ++value;\n",
        "  }\n",
        "\n",
        "  public int getValue(){ //method\n",
        "    return value;\n",
        "  }\n",
        "}\n"
      ],
      "metadata": {
        "id": "16dNJCBhUUob",
        "colab": {
          "base_uri": "https://localhost:8080/"
        },
        "outputId": "24eb69f8-89a1-42af-8466-a41e44d7562d"
      },
      "execution_count": 4,
      "outputs": [
        {
          "output_type": "stream",
          "name": "stdout",
          "text": [
            "Writing Counter.java\n"
          ]
        }
      ]
    },
    {
      "cell_type": "markdown",
      "source": [
        "- TODO: Compile the source code using the **javac** command."
      ],
      "metadata": {
        "id": "_1B9X4F_SSi5"
      }
    },
    {
      "cell_type": "code",
      "source": [
        "# Command to compile Counter.java\n",
        "!javac Counter.java"
      ],
      "metadata": {
        "id": "aIswE_YhSPll"
      },
      "execution_count": 5,
      "outputs": []
    },
    {
      "cell_type": "markdown",
      "source": [
        "## Objects"
      ],
      "metadata": {
        "id": "zWkho5f1RUPJ"
      }
    },
    {
      "cell_type": "markdown",
      "source": [
        "The class **Counter** defines an user-defined type.\n",
        "\n",
        "Now, let's create an object of the class **Counter**.\n",
        "\n",
        "Java objects are allocated dynamically using the **new** keyword. In the following example `c` is a **reference** to an object of the class **Counter**.\n",
        "\n",
        "\n",
        "```java\n",
        "Counter c = new Counter();\n",
        "```\n",
        "\n",
        "Objects members are accessed through the reference using the **dot** operator.\n",
        "\n",
        "`c.inc();` - increases the value of the **value** attribute of the object by 1.\n",
        "\n",
        "`c.getValue();` - returns the value of the **value** attribute."
      ],
      "metadata": {
        "id": "u6wuBiEARYu7"
      }
    },
    {
      "cell_type": "markdown",
      "source": [
        "**It's your turn!**\n",
        "\n",
        "TODO: In the following code block create a counter object and increase its value 5 times, then print its value.\n"
      ],
      "metadata": {
        "id": "FV4BtHihRQKw"
      }
    },
    {
      "cell_type": "code",
      "execution_count": 6,
      "metadata": {
        "colab": {
          "base_uri": "https://localhost:8080/"
        },
        "id": "TL8IBnUnPXNa",
        "outputId": "d8d01b12-7794-446c-af47-42c399ea87fb"
      },
      "outputs": [
        {
          "output_type": "stream",
          "name": "stdout",
          "text": [
            "Writing CounterTest.java\n"
          ]
        }
      ],
      "source": [
        "%%writefile CounterTest.java\n",
        "\n",
        "public class CounterTest {\n",
        "  public static void main(String[] args) {\n",
        "    // Write your code here\n",
        "    // Create a counter, call inc() 5 times, and print its value\n",
        "    Counter counter = new Counter();\n",
        "    for(int i = 0; i < 5; i++) {\n",
        "      counter.inc();\n",
        "    }\n",
        "    System.out.println(counter.getValue());\n",
        "\n",
        "  }\n",
        "}\n"
      ]
    },
    {
      "cell_type": "markdown",
      "source": [
        "TODO: Compile `CounterTest.java` using the **javac** command."
      ],
      "metadata": {
        "id": "8tYYmECFWOz5"
      }
    },
    {
      "cell_type": "code",
      "source": [
        "# Your command here\n",
        "!javac CounterTest.java"
      ],
      "metadata": {
        "id": "zMuYyGHNWR8Z"
      },
      "execution_count": 7,
      "outputs": []
    },
    {
      "cell_type": "markdown",
      "source": [
        "TODO: Interpret `CounterTest.class` using the **java** command."
      ],
      "metadata": {
        "id": "F5H6XWqCVGri"
      }
    },
    {
      "cell_type": "code",
      "source": [
        "# Your command here\n",
        "!java CounterTest"
      ],
      "metadata": {
        "id": "c2VQW5jjVFda",
        "colab": {
          "base_uri": "https://localhost:8080/"
        },
        "outputId": "a8671770-150c-426b-8e7c-7f51d9ca0a33"
      },
      "execution_count": 8,
      "outputs": [
        {
          "output_type": "stream",
          "name": "stdout",
          "text": [
            "5\n"
          ]
        }
      ]
    },
    {
      "cell_type": "markdown",
      "source": [
        "## Information hiding"
      ],
      "metadata": {
        "id": "8eq4ftj0Scg9"
      }
    },
    {
      "cell_type": "markdown",
      "source": [
        "In the following code block we define a `Date` structure in **C programming language** that contains the `year`, `month`, and `day` of a certain date.\n",
        "\n",
        "Then, we will play with this structure."
      ],
      "metadata": {
        "id": "sSG3PK_pSqUv"
      }
    },
    {
      "cell_type": "code",
      "source": [
        "%%writefile Date.c\n",
        "#include <stdio.h>\n",
        "\n",
        "struct Date {\n",
        "  int year;\n",
        "  int month;\n",
        "  int day;\n",
        "};\n",
        "\n",
        "int main() {\n",
        "  struct Date date;\n",
        "  date.year = 2000;\n",
        "  date.month = 1;\n",
        "  date.day = 1;\n",
        "  printf(\"%d/%d/%d\", date.year, date.month, date.day);\n",
        "  return 0;\n",
        "}"
      ],
      "metadata": {
        "id": "TPJn4MFfSoxO",
        "colab": {
          "base_uri": "https://localhost:8080/"
        },
        "outputId": "2dc54646-d6a2-425c-8564-32d33d3826f4"
      },
      "execution_count": 9,
      "outputs": [
        {
          "output_type": "stream",
          "name": "stdout",
          "text": [
            "Writing Date.c\n"
          ]
        }
      ]
    },
    {
      "cell_type": "markdown",
      "source": [
        "Compile and create the executable file by running the following command: `!gcc Date.c`.\n",
        "\n",
        "The default name of the executable file is `a.out`."
      ],
      "metadata": {
        "id": "JGwTaTTmW4J1"
      }
    },
    {
      "cell_type": "code",
      "source": [
        "# Compile Date.c\n",
        "!gcc Date.c\n",
        "# Run a.out\n",
        "!./a.out"
      ],
      "metadata": {
        "id": "CeiO97XlW6F_",
        "colab": {
          "base_uri": "https://localhost:8080/"
        },
        "outputId": "db85de7d-7a8c-41a0-c41a-62c9abf2a71a"
      },
      "execution_count": 10,
      "outputs": [
        {
          "output_type": "stream",
          "name": "stdout",
          "text": [
            "2000/1/1"
          ]
        }
      ]
    },
    {
      "cell_type": "markdown",
      "source": [
        "TODO: Modify the `Date.c` program as follows:\n",
        "```c\n",
        "date.year = 2000;\n",
        "date.month = 1;\n",
        "date.day = 32;\n",
        "```\n",
        "\n",
        "Compile and run the modified `Date.c` program.\n",
        "\n",
        "There is no validation code in the `Date` structure, so 32 is accepted as the day.\n",
        "\n",
        "In C you can't **hide information**. Any code can change the value of the `day` attribute.\n"
      ],
      "metadata": {
        "id": "htNgrG02ZHXt"
      }
    },
    {
      "cell_type": "markdown",
      "source": [
        "Let's write a `Date` class in Java.\n",
        "\n",
        "- In the first step we define a `DateUtil` class that checks whether three integers represent a valid date.\n",
        "\n",
        "- In the second step we define a `Date` class that contains the `year`, `month`, and `day` of a certain date.\n",
        "\n"
      ],
      "metadata": {
        "id": "Y6pSCFlobF3v"
      }
    },
    {
      "cell_type": "code",
      "source": [
        "%%writefile DateUtil.java\n",
        "public class DateUtil {\n",
        "\n",
        "  public static boolean isLeapYear(int year) {\n",
        "    return ((year % 4) == 0 && (year % 100) != 0) || (year % 400 == 0);\n",
        "  }\n",
        "\n",
        "  public static boolean isValidDate(int y, int m, int d) {\n",
        "    if (y <= 0 ) {\n",
        "      return false;\n",
        "    }\n",
        "    if(d < 1 || d > 31) {\n",
        "      return false;\n",
        "    }\n",
        "    if(m < 1 || m > 12) {\n",
        "      return false;\n",
        "    }\n",
        "    if(m == 2) {\n",
        "      if(isLeapYear(y)) {\n",
        "        return d <= 29;\n",
        "      } else {\n",
        "        return d <= 28;\n",
        "      }\n",
        "    }\n",
        "    if(m == 4 || m == 6 || m == 9 || m == 11) {\n",
        "      return d <= 30;\n",
        "    } else {\n",
        "      return d <= 31;\n",
        "    }\n",
        "  }\n",
        "\n",
        "}"
      ],
      "metadata": {
        "colab": {
          "base_uri": "https://localhost:8080/"
        },
        "id": "RTFRvQnRcPKp",
        "outputId": "fc0356d2-0e3e-4c21-f862-ede4d7a9c4e6"
      },
      "execution_count": 11,
      "outputs": [
        {
          "output_type": "stream",
          "name": "stdout",
          "text": [
            "Writing DateUtil.java\n"
          ]
        }
      ]
    },
    {
      "cell_type": "markdown",
      "source": [
        "Let's test the `DateUtil` class.\n"
      ],
      "metadata": {
        "id": "9PLxwacJkObw"
      }
    },
    {
      "cell_type": "code",
      "source": [
        "%%writefile Main.java\n",
        "\n",
        "public class Main {\n",
        "\n",
        "  public static void main(String[] args) {\n",
        "    System.out.println(DateUtil.isValidDate(2000,2, 29) == true);\n",
        "    System.out.println(DateUtil.isValidDate(2000,2, 30) == false);\n",
        "    System.out.println(DateUtil.isValidDate(1900,2, 29) == false);\n",
        "    System.out.println(DateUtil.isValidDate(1900,2, 28) == true);\n",
        "    System.out.println(DateUtil.isValidDate(-1900,2, 28) == false);\n",
        "    System.out.println(DateUtil.isValidDate(0,2, 28) == false);\n",
        "    System.out.println(DateUtil.isValidDate(2021,2, 29) == false);\n",
        "    System.out.println(DateUtil.isValidDate(2020,2, 29) == true);\n",
        "    System.out.println(DateUtil.isValidDate(2020,1, 32) == false);\n",
        "    System.out.println(DateUtil.isValidDate(2020,1, 0) == false);\n",
        "    System.out.println(DateUtil.isValidDate(2020,0, 0) == false);\n",
        "    System.out.println(DateUtil.isValidDate(2020,4, 31) == false);\n",
        "    System.out.println(DateUtil.isValidDate(2020,1, 31) == true);\n",
        "\n",
        "  }\n",
        "}"
      ],
      "metadata": {
        "colab": {
          "base_uri": "https://localhost:8080/"
        },
        "id": "5jvPfcwJd3Eb",
        "outputId": "2db44b6a-ad2b-4d3c-b6d6-a0ae4de10b5a"
      },
      "execution_count": 12,
      "outputs": [
        {
          "output_type": "stream",
          "name": "stdout",
          "text": [
            "Writing Main.java\n"
          ]
        }
      ]
    },
    {
      "cell_type": "code",
      "source": [
        "# You can compile multiple files with a single command\n",
        "!javac DateUtil.java Main.java\n",
        "# Interpret that bytecode file which contains the main method\n",
        "!java Main"
      ],
      "metadata": {
        "colab": {
          "base_uri": "https://localhost:8080/"
        },
        "id": "7Vg-EMvLkes2",
        "outputId": "11a73ff1-5505-4f56-fe27-6b6118705850"
      },
      "execution_count": 13,
      "outputs": [
        {
          "output_type": "stream",
          "name": "stdout",
          "text": [
            "true\n",
            "true\n",
            "true\n",
            "true\n",
            "true\n",
            "true\n",
            "true\n",
            "true\n",
            "true\n",
            "true\n",
            "true\n",
            "true\n",
            "true\n"
          ]
        }
      ]
    },
    {
      "cell_type": "markdown",
      "source": [
        "Now, it's time to write the `Date` class.\n",
        "\n",
        "- The class hides the `year`, `month`, and `day` attributes declaring them as **private**. This is called **information hiding**.\n"
      ],
      "metadata": {
        "id": "t8Y4uSa6jSDJ"
      }
    },
    {
      "cell_type": "markdown",
      "source": [
        "In this class you will see a method called `Date` that doesn't have return type.\n",
        "\n",
        "We call this method **constructor**.\n",
        "\n",
        "The **role of the constructor** is to **initialize the attributes** of the class.\n",
        "\n",
        "Before initialization we check the validity of the date. This is done by the **isValidDate** method of the `DateUtil` class."
      ],
      "metadata": {
        "id": "DfhVKCh-ljlL"
      }
    },
    {
      "cell_type": "code",
      "source": [
        "%%writefile Date.java\n",
        "public class Date {\n",
        "  private int day;\n",
        "  private int month;\n",
        "  private int year;\n",
        "\n",
        "  // Constructor\n",
        "  public Date(int y, int m, int d) {\n",
        "    if (DateUtil.isValidDate(y, m, d)) {\n",
        "      year = y;\n",
        "      month = m;\n",
        "      day = d;\n",
        "    }\n",
        "  }\n",
        "\n",
        "  public void printDate(){\n",
        "    System.out.println(year + \"/\" + month + \"/\" + day);\n",
        "  }\n",
        "}"
      ],
      "metadata": {
        "colab": {
          "base_uri": "https://localhost:8080/"
        },
        "id": "lCYFvHwTbNqr",
        "outputId": "bfca0cc2-5979-41cd-d773-9eaae113b545"
      },
      "execution_count": 14,
      "outputs": [
        {
          "output_type": "stream",
          "name": "stdout",
          "text": [
            "Writing Date.java\n"
          ]
        }
      ]
    },
    {
      "cell_type": "code",
      "source": [
        "%%writefile TestDate.java\n",
        "public class TestDate {\n",
        "  public static void main(String[] args) {\n",
        "    Date date = new Date(2020, 1, 31);\n",
        "    date.printDate();\n",
        "\n",
        "    Date date2 = new Date(2020, 2, 30);\n",
        "    date2.printDate();\n",
        "  }\n",
        "}"
      ],
      "metadata": {
        "colab": {
          "base_uri": "https://localhost:8080/"
        },
        "id": "l0LfT-v7n3wu",
        "outputId": "ed75af5a-85e3-4a59-8878-51da292f8234"
      },
      "execution_count": 15,
      "outputs": [
        {
          "output_type": "stream",
          "name": "stdout",
          "text": [
            "Writing TestDate.java\n"
          ]
        }
      ]
    },
    {
      "cell_type": "code",
      "source": [
        "!javac Date.java TestDate.java\n",
        "!java TestDate"
      ],
      "metadata": {
        "colab": {
          "base_uri": "https://localhost:8080/"
        },
        "id": "5WaUM5CLeCOt",
        "outputId": "9d6f670e-16e3-46d8-9913-325b814b546f"
      },
      "execution_count": 16,
      "outputs": [
        {
          "output_type": "stream",
          "name": "stdout",
          "text": [
            "2020/1/31\n",
            "0/0/0\n"
          ]
        }
      ]
    },
    {
      "cell_type": "markdown",
      "source": [
        "## Encapsulation"
      ],
      "metadata": {
        "id": "jkrq33yJU4GO"
      }
    },
    {
      "cell_type": "markdown",
      "source": [
        "**Encapsulation** = bundling **data** with the **methods** that operate on the data.\n",
        "\n",
        "\n",
        "\n",
        "**Encapsulation = Data + Methods**"
      ],
      "metadata": {
        "id": "Av_0ViSdU7Pz"
      }
    },
    {
      "cell_type": "markdown",
      "source": [
        "Object's state - az objektum állapota"
      ],
      "metadata": {
        "id": "wke5ZeZHrqTs"
      }
    },
    {
      "cell_type": "markdown",
      "source": [
        "**Object's state** = the values of the attributes of an object"
      ],
      "metadata": {
        "id": "L4YCxRVWrilb"
      }
    },
    {
      "cell_type": "markdown",
      "source": [
        "**It's your turn!**\n",
        "\n",
        "Answer the following question:\n",
        "\n",
        "- What is the **role** of the constructor?\n",
        "- Can you change the **state** of a `Date` object?\n",
        "- Can you change the **state** of a `Counter` object?"
      ],
      "metadata": {
        "id": "LUizFVgDrMeW"
      }
    }
  ]
}